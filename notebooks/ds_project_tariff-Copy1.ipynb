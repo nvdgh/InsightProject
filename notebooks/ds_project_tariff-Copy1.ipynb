{
 "cells": [
  {
   "cell_type": "code",
   "execution_count": 36,
   "metadata": {},
   "outputs": [],
   "source": [
    "#import package\n",
    "import streamlit as st\n",
    "import pandas as pd\n",
    "import numpy as np\n",
    "from PIL import Image\n",
    "from sklearn.metrics import mean_squared_error, r2_score\n",
    "\n",
    "from cforest.forest import CausalForest\n",
    "from sklearn.model_selection import train_test_split"
   ]
  },
  {
   "cell_type": "code",
   "execution_count": 37,
   "metadata": {},
   "outputs": [
    {
     "data": {
      "text/plain": [
       "<streamlit.DeltaGenerator.DeltaGenerator at 0x23494be2b48>"
      ]
     },
     "execution_count": 37,
     "metadata": {},
     "output_type": "execute_result"
    }
   ],
   "source": [
    "#import the data\n",
    "data = pd.read_csv(\"d:/git/InSightProject - Copy/data/processed/cross_import_cn.csv\")\n",
    "image = Image.open(\"d:/git\\InSightProject/streamlit_folder/bike.png\")\n",
    "st.title(\"Welcome to the Prediction App of Tariff Impact on Changes in Import Value Percentage\")\n",
    "st.image(image, use_column_width=True)"
   ]
  },
  {
   "cell_type": "code",
   "execution_count": 38,
   "metadata": {},
   "outputs": [],
   "source": [
    "#checking the data\n",
    "st.write(\"\\n This is an application for knowing how much the range of import values (quantity imported time product price) change due to 2018 tariff using Causal Forest. Let's try and see! \\n\")\n",
    "check_data = st.checkbox(\"\\n See the simple data \\n\")\n",
    "if check_data:\n",
    "    st.write(data.head())\n",
    "st.write(\"\\n Now let's find out how much the import values when we choosing some parameters. \\n\")"
   ]
  },
  {
   "cell_type": "code",
   "execution_count": 39,
   "metadata": {},
   "outputs": [],
   "source": [
    "#input the numbers\n",
    "va_y = data.va_y.mean()\n",
    "va_l = data.va_l.mean()\n",
    "pl_l = st.slider(\"What is your business's proportion of production workers?\",data.pl_l.min(), data.pl_l.max(),data.pl_l.mean())\n",
    "inter_y = data.inter_y.mean()\n",
    "sk_l     = st.slider(\"What is your business's skill intensity?\",data.sk_l.min(), data.sk_l.max(),data.sk_l.mean())\n",
    "m_l = st.slider(\"What is your business's skill intensity?\",data.m_l.min(), data.m_l.max(),data.m_l.mean())\n",
    "k_l = data.k_l.mean()\n",
    "rental_l = data.rental_l.mean()\n",
    "temp_l      = st.slider(\"What is your business's temporary workers intensity?\",data.temp_l.min(), data.temp_l.max(),data.temp_l.mean())\n",
    "it_l = data.it_l.mean()\n",
    "mkt_l = data.mkt_l.mean()\n",
    "outsource_l    = st.slider(\"What is your business's outsourcing intensity?\",data.outsource_l.min(), data.outsource_l.max(),data.outsource_l.mean())\n",
    "tax_l = data.tax_l.mean()\n",
    "cn_mnc_ratio    = st.slider(\"What is your business's multinational corporation ratio in China?\",data.cn_mnc_ratio.min(), data.cn_mnc_ratio.max(),data.cn_mnc_ratio.mean())"
   ]
  },
  {
   "cell_type": "code",
   "execution_count": 40,
   "metadata": {},
   "outputs": [],
   "source": [
    "# create the input array\n",
    "newx = np.array([[va_y, va_l, pl_l, inter_y, sk_l, m_l, k_l, rental_l,temp_l, it_l, mkt_l, outsource_l, tax_l, cn_mnc_ratio]])"
   ]
  },
  {
   "cell_type": "code",
   "execution_count": 41,
   "metadata": {},
   "outputs": [],
   "source": [
    "X = data[['va_y', 'va_l', 'pl_l', 'inter_y', 'sk_l',\n",
    "       'm_l', 'k_l', 'rental_l', 'temp_l', 'it_l', 'mkt_l', 'outsource_l',\n",
    "       'tax_l', 'cn_mnc_ratio']]\n",
    "y = data['crossiv']\n",
    "t = data['Treated'].astype('bool')"
   ]
  },
  {
   "cell_type": "code",
   "execution_count": 42,
   "metadata": {},
   "outputs": [],
   "source": [
    "x_train, x_test, y_train, y_test, treat_train, treat_test = train_test_split(X, y, t, test_size=0.5)"
   ]
  },
  {
   "cell_type": "code",
   "execution_count": 43,
   "metadata": {},
   "outputs": [],
   "source": [
    "cfparams = {\n",
    "    'num_trees': 40,\n",
    "    'split_ratio': 1,\n",
    "    'num_workers': 4,\n",
    "    'min_leaf': 5,\n",
    "    'max_depth': 20,\n",
    "    'seed_counter': 1,\n",
    "}"
   ]
  },
  {
   "cell_type": "code",
   "execution_count": 44,
   "metadata": {},
   "outputs": [],
   "source": [
    "cf = CausalForest(**cfparams)"
   ]
  },
  {
   "cell_type": "code",
   "execution_count": 45,
   "metadata": {},
   "outputs": [],
   "source": [
    "cf = cf.fit(x_train, treat_train, y_train)"
   ]
  },
  {
   "cell_type": "code",
   "execution_count": 46,
   "metadata": {},
   "outputs": [],
   "source": [
    "errors = np.sqrt(mean_squared_error(y_test,cf.predict(x_test)))"
   ]
  },
  {
   "cell_type": "code",
   "execution_count": 47,
   "metadata": {},
   "outputs": [],
   "source": [
    "predictions = cf.predict(newx)"
   ]
  },
  {
   "cell_type": "code",
   "execution_count": 48,
   "metadata": {},
   "outputs": [],
   "source": [
    "#checking prediction house price\n",
    "if st.button(\"Run me!\"):\n",
    "    st.header(\"Your business's import values will change an amount of {}%\".format(np.round(predictions*10,2)))\n",
    "    st.subheader(\"Your range of prediction is {}% - {}%\".format(np.round(predictions*10-errors,2),np.round(predictions*10+errors,2)))"
   ]
  },
  {
   "cell_type": "code",
   "execution_count": null,
   "metadata": {},
   "outputs": [],
   "source": []
  }
 ],
 "metadata": {
  "kernelspec": {
   "display_name": "Python 3",
   "language": "python",
   "name": "python3"
  },
  "language_info": {
   "codemirror_mode": {
    "name": "ipython",
    "version": 3
   },
   "file_extension": ".py",
   "mimetype": "text/x-python",
   "name": "python",
   "nbconvert_exporter": "python",
   "pygments_lexer": "ipython3",
   "version": "3.7.7"
  }
 },
 "nbformat": 4,
 "nbformat_minor": 4
}
