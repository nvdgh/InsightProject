{
 "cells": [
  {
   "cell_type": "code",
   "execution_count": 177,
   "metadata": {},
   "outputs": [],
   "source": [
    "#import package\n",
    "import streamlit as st\n",
    "import pandas as pd\n",
    "import numpy as np\n",
    "from PIL import Image\n",
    "from sklearn.metrics import mean_squared_error, r2_score\n",
    "\n",
    "from lightgbm import LGBMRegressor\n",
    "import patsy"
   ]
  },
  {
   "cell_type": "code",
   "execution_count": 178,
   "metadata": {},
   "outputs": [
    {
     "data": {
      "text/plain": [
       "<streamlit.DeltaGenerator.DeltaGenerator at 0x253273d2708>"
      ]
     },
     "execution_count": 178,
     "metadata": {},
     "output_type": "execute_result"
    }
   ],
   "source": [
    "#import the data\n",
    "data = pd.read_csv(\"d:/git/InSightProject - Copy/data/processed/cross_import_cn.csv\")\n",
    "image = Image.open(\"d:/git\\InSightProject/streamlit_folder/bike.png\")\n",
    "st.title(\"Welcome to the Prediction App of Tariff Impact on Changes in Import Value Percentage\")\n",
    "st.image(image, use_column_width=True)"
   ]
  },
  {
   "cell_type": "code",
   "execution_count": 179,
   "metadata": {},
   "outputs": [],
   "source": [
    "#checking the data\n",
    "st.write(\"This is an application for knowing how much the range of import values (quantity imported time product price) change due to 2018 tariff using Causal Forest. Let's try and see!\")\n",
    "check_data = st.checkbox(\"See the simple data\")\n",
    "if check_data:\n",
    "    st.write(data.head())\n",
    "st.write(\"Now let's find out how much the import values when we choosing some parameters.\")"
   ]
  },
  {
   "cell_type": "code",
   "execution_count": 180,
   "metadata": {},
   "outputs": [],
   "source": [
    "#input the numbers\n",
    "va_y = data.va_y.mean()\n",
    "va_l = data.va_l.mean()\n",
    "pl_l = st.slider(\"What is your business's proportion of production workers?\",data.pl_l.min(), data.pl_l.max(),data.pl_l.mean())\n",
    "inter_y = data.inter_y.mean()\n",
    "sk_l     = st.slider(\"What is your business's skill intensity?\",data.sk_l.min(), data.sk_l.max(),data.sk_l.mean())\n",
    "m_l = data.m_l.mean()\n",
    "k_l = data.k_l.mean()\n",
    "rental_l = data.rental_l.mean()\n",
    "temp_l      = st.slider(\"What is your business's temporary workers intensity?\",data.temp_l.min(), data.temp_l.max(),data.temp_l.mean())\n",
    "it_l = data.it_l.mean()\n",
    "mkt_l = data.mkt_l.mean()\n",
    "outsource_l    = st.slider(\"What is your business's outsourcing intensity?\",data.outsource_l.min(), data.outsource_l.max(),data.outsource_l.mean())\n",
    "tax_l = data.tax_l.mean()\n",
    "cn_mnc_ratio    = st.slider(\"What is your business's multinational corporation ratio in China?\",data.cn_mnc_ratio.min(), data.cn_mnc_ratio.max(),data.cn_mnc_ratio.mean())"
   ]
  },
  {
   "cell_type": "code",
   "execution_count": 181,
   "metadata": {},
   "outputs": [],
   "source": [
    "# create the input array\n",
    "newx = np.array([[va_y, va_l, pl_l, inter_y, sk_l, m_l, k_l, rental_l,temp_l, it_l, mkt_l, outsource_l, tax_l, cn_mnc_ratio]])"
   ]
  },
  {
   "cell_type": "code",
   "execution_count": 182,
   "metadata": {},
   "outputs": [],
   "source": [
    "# some data prep for later\n",
    "formula = \"\"\"\n",
    "crossiv ~ Treated + va_y+ va_l+ pl_l+ inter_y+ sk_l+ m_l+ k_l+ rental_l+ temp_l+ it_l+ mkt_l+ outsource_l+ tax_l+ cn_mnc_ratio\n",
    "\"\"\""
   ]
  },
  {
   "cell_type": "code",
   "execution_count": 183,
   "metadata": {},
   "outputs": [],
   "source": [
    "# Describing statistical models and for building design matrices.\n",
    "crossiv, X = patsy.dmatrices(formula, data, return_type='dataframe')\n",
    "X = X.loc[:,:]\n",
    "crossiv = crossiv.iloc[:,0]"
   ]
  },
  {
   "cell_type": "code",
   "execution_count": 184,
   "metadata": {},
   "outputs": [],
   "source": [
    "treatment_variable = \"Treated\"\n",
    "treatment = X[\"Treated\"]\n",
    "Xl = X.drop([\"Intercept\", \"Treated\"], axis=1)"
   ]
  },
  {
   "cell_type": "code",
   "execution_count": 185,
   "metadata": {},
   "outputs": [],
   "source": [
    "import os\n",
    "import warnings\n",
    "warnings.filterwarnings('ignore')"
   ]
  },
  {
   "cell_type": "code",
   "execution_count": 186,
   "metadata": {},
   "outputs": [],
   "source": [
    "import pandas as pd\n",
    "import numpy as np\n",
    "import matplotlib.pyplot as plt\n",
    "from causalml.inference.meta import BaseSRegressor, BaseTRegressor, BaseXRegressor, BaseRRegressor\n",
    "from causalml.dataset.regression import synthetic_data\n",
    "from sklearn.linear_model import LinearRegression\n",
    "from sklearn.ensemble import RandomForestRegressor, GradientBoostingRegressor\n",
    "from sklearn.tree import DecisionTreeRegressor\n",
    "from xgboost import XGBRegressor\n",
    "from lightgbm import LGBMRegressor\n",
    "import shap\n",
    "import matplotlib.pyplot as plt\n",
    "\n",
    "import time\n",
    "from sklearn.inspection import permutation_importance\n",
    "from sklearn.model_selection import train_test_split\n",
    "\n",
    "os.environ['KMP_DUPLICATE_LIB_OK'] = 'True'  # for lightgbm to work"
   ]
  },
  {
   "cell_type": "code",
   "execution_count": 187,
   "metadata": {},
   "outputs": [],
   "source": [
    "plt.style.use('fivethirtyeight')\n",
    "n_features = 25\n",
    "n_samples = 10000"
   ]
  },
  {
   "cell_type": "code",
   "execution_count": 188,
   "metadata": {},
   "outputs": [],
   "source": [
    "w_multi = np.array(['treatment_A' if x==1 else 'control' for x in treatment])"
   ]
  },
  {
   "cell_type": "code",
   "execution_count": 189,
   "metadata": {},
   "outputs": [],
   "source": [
    "model_tau = LGBMRegressor(importance_type='gain')  # specify model for model_tau"
   ]
  },
  {
   "cell_type": "code",
   "execution_count": 190,
   "metadata": {},
   "outputs": [
    {
     "name": "stderr",
     "output_type": "stream",
     "text": [
      "Error metrics for group treatment_A\n",
      "    RMSE   (Control):     3.6395\n",
      "    RMSE (Treatment):     3.7307\n",
      "   sMAPE   (Control):     1.7418\n",
      "   sMAPE (Treatment):     1.4347\n",
      "    Gini   (Control):     0.2299\n",
      "    Gini (Treatment):     0.2798\n"
     ]
    },
    {
     "data": {
      "text/plain": [
       "array([-1.62717107])"
      ]
     },
     "execution_count": 190,
     "metadata": {},
     "output_type": "execute_result"
    }
   ],
   "source": [
    "base_algo = LGBMRegressor()\n",
    "# base_algo = XGBRegressor()\n",
    "# base_algo = RandomForestRegressor()\n",
    "# base_algo = LinearRegression()\n",
    "\n",
    "slearner = BaseSRegressor(base_algo, control_name='control')\n",
    "slearner.estimate_ate(Xl, w_multi, crossiv)"
   ]
  },
  {
   "cell_type": "code",
   "execution_count": 191,
   "metadata": {},
   "outputs": [
    {
     "name": "stderr",
     "output_type": "stream",
     "text": [
      "Error metrics for group treatment_A\n",
      "    RMSE   (Control):     3.6395\n",
      "    RMSE (Treatment):     3.7307\n",
      "   sMAPE   (Control):     1.7418\n",
      "   sMAPE (Treatment):     1.4347\n",
      "    Gini   (Control):     0.2299\n",
      "    Gini (Treatment):     0.2798\n"
     ]
    }
   ],
   "source": [
    "slearner_tau = slearner.fit_predict(Xl, w_multi, crossiv)"
   ]
  },
  {
   "cell_type": "code",
   "execution_count": 192,
   "metadata": {},
   "outputs": [],
   "source": [
    "#modelling step\n",
    "#import your model\n",
    "errors = np.sqrt(mean_squared_error(crossiv,slearner_tau))\n",
    "predictions = slearner.predict(newx)"
   ]
  },
  {
   "cell_type": "code",
   "execution_count": 193,
   "metadata": {},
   "outputs": [],
   "source": [
    "#checking prediction house price\n",
    "if st.button(\"Run me!\"):\n",
    "    st.header(\"Your business's import values will change an amount of {}%\".format(np.round(predictions*10,2)))\n",
    "    st.subheader(\"Your range of prediction is {}% - {}%\".format(np.round(predictions*10-errors,2),np.round(predictions*10+errors,2)))"
   ]
  },
  {
   "cell_type": "code",
   "execution_count": null,
   "metadata": {},
   "outputs": [],
   "source": []
  }
 ],
 "metadata": {
  "kernelspec": {
   "display_name": "Python 3",
   "language": "python",
   "name": "python3"
  },
  "language_info": {
   "codemirror_mode": {
    "name": "ipython",
    "version": 3
   },
   "file_extension": ".py",
   "mimetype": "text/x-python",
   "name": "python",
   "nbconvert_exporter": "python",
   "pygments_lexer": "ipython3",
   "version": "3.7.7"
  }
 },
 "nbformat": 4,
 "nbformat_minor": 4
}
